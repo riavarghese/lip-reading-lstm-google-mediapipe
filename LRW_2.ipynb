{
  "nbformat": 4,
  "nbformat_minor": 0,
  "metadata": {
    "colab": {
      "name": "LRW-2.ipynb",
      "provenance": [],
      "collapsed_sections": [],
      "machine_shape": "hm"
    },
    "kernelspec": {
      "name": "python3",
      "display_name": "Python 3"
    },
    "language_info": {
      "name": "python"
    },
    "accelerator": "GPU"
  },
  "cells": [
    {
      "cell_type": "code",
      "metadata": {
        "id": "7bqGV4DYty_7"
      },
      "source": [
        "from google.colab import drive\n",
        "drive.mount('/content/drive')"
      ],
      "execution_count": null,
      "outputs": []
    },
    {
      "cell_type": "code",
      "metadata": {
        "id": "xwb1j25azk_3"
      },
      "source": [
        "from keras import utils\n",
        "from keras.models import Sequential,model_from_yaml\n",
        "from keras.layers import Dense, Dropout, Flatten\n",
        "from keras.layers import Conv2D, MaxPooling2D, LSTM, GRU\n",
        "from keras.layers import TimeDistributed, Conv3D,MaxPooling3D, ZeroPadding3D\n",
        "from keras.layers import Bidirectional\n",
        "from keras.preprocessing.image import ImageDataGenerator\n",
        "from keras import backend as K\n",
        "from imutils import face_utils\n",
        "\n",
        "from sklearn.preprocessing import MinMaxScaler\n",
        "\n",
        "import os\n",
        "import shutil\n",
        "import re\n",
        "\n",
        "import imutils\n",
        "import numpy as np\n",
        "import cv2\n",
        "\n",
        "import matplotlib.pyplot as plt\n",
        "\n",
        "from sklearn.metrics import confusion_matrix\n",
        "import itertools"
      ],
      "execution_count": null,
      "outputs": []
    },
    {
      "cell_type": "code",
      "metadata": {
        "id": "d4pi1MDPxxOP"
      },
      "source": [
        "path=\"/content/drive/MyDrive/Project/LRW/original - mediapipe/\""
      ],
      "execution_count": null,
      "outputs": []
    },
    {
      "cell_type": "markdown",
      "metadata": {
        "id": "PE2lXrKbMDaU"
      },
      "source": [
        "Importing numpy arrays"
      ]
    },
    {
      "cell_type": "code",
      "metadata": {
        "id": "h_rsiJKMrCW9"
      },
      "source": [
        "X_train = np.load(path+'X_train3.nathy')\n",
        "X_test = np.load(path+'X_test3.npy')\n",
        "X_val = np.load(path+'X_val3.npy')\n",
        "y_train = np.load(path+'y_train3.npy')\n",
        "y_test = np.load(path+'y_test3.npy')\n",
        "y_val = np.load(path+'y_val3.npy')\n",
        "\n",
        "y_train = np.delete(y_train,0,1)\n",
        "y_val = np.delete(y_val,0,1)\n",
        "y_test = np.delete(y_test,0,1)"
      ],
      "execution_count": null,
      "outputs": []
    },
    {
      "cell_type": "markdown",
      "metadata": {
        "id": "lkCgEunJMM7r"
      },
      "source": [
        "Model building"
      ]
    },
    {
      "cell_type": "code",
      "metadata": {
        "id": "vcHLL_1Wqp2u"
      },
      "source": [
        "model = Sequential()\n",
        "model.add(LSTM(512))\n",
        "model.add(Dropout(0.3))\n",
        "model.add(Dense(4, activation='softmax'))"
      ],
      "execution_count": null,
      "outputs": []
    },
    {
      "cell_type": "code",
      "metadata": {
        "id": "MYSdZd_Ks5Ed"
      },
      "source": [
        "#MODEL FITTING\n",
        "model.compile(loss='categorical_crossentropy',\n",
        "              optimizer='adam',\n",
        "              metrics=['accuracy'])"
      ],
      "execution_count": null,
      "outputs": []
    },
    {
      "cell_type": "code",
      "metadata": {
        "id": "U8BFFvWgs7Xh"
      },
      "source": [
        "from keras.callbacks import EarlyStopping\n",
        "from keras.callbacks import ModelCheckpoint\n",
        "from keras.models import load_model\n",
        "\n",
        "es = EarlyStopping(monitor='val_loss', mode='min', verbose=1, patience=50)\n",
        "mc = ModelCheckpoint(path+'best_model.h5', monitor='val_accuracy', mode='max', verbose=1, save_best_only=True)\n",
        "history = model.fit(X_train, y_train,validation_data=(X_val, y_val), epochs=1000, batch_size=256, callbacks=[es,mc])\n",
        "model.summary()"
      ],
      "execution_count": null,
      "outputs": []
    },
    {
      "cell_type": "markdown",
      "metadata": {
        "id": "E3NU27AiMP9B"
      },
      "source": [
        "Model evaluation"
      ]
    },
    {
      "cell_type": "code",
      "metadata": {
        "id": "SqsyjTA1tIUF"
      },
      "source": [
        "plt.plot(history.history['loss'], label='train')\n",
        "plt.plot(history.history['val_loss'], label='val')\n",
        "plt.xlabel(\"No. of epochs\")\n",
        "plt.ylabel(\"Loss\")\n",
        "plt.legend()\n",
        "plt.show()"
      ],
      "execution_count": null,
      "outputs": []
    },
    {
      "cell_type": "code",
      "metadata": {
        "id": "_MF7g7EjtIwO"
      },
      "source": [
        "plt.plot(history.history['accuracy'], label='train')\n",
        "plt.plot(history.history['val_accuracy'], label='val')\n",
        "plt.xlabel(\"No. of epochs\")\n",
        "plt.ylabel(\"Accuracy\")\n",
        "plt.legend()\n",
        "plt.show()"
      ],
      "execution_count": null,
      "outputs": []
    },
    {
      "cell_type": "code",
      "metadata": {
        "id": "4fx9H2zPtKNA"
      },
      "source": [
        "saved_model = load_model(\"/content/drive/MyDrive/Project/Final_model.h5\")\n",
        "#Testing the model\n",
        "model.compile(loss='categorical_crossentropy',\n",
        "              optimizer='adam',\n",
        "              metrics=['accuracy'])\n",
        "scores,acc = saved_model.evaluate(X_test, y_test,verbose=0)\n",
        "model.summary()\n",
        "print(\"Accuracy on the test set: {}%\".format(acc*100))"
      ],
      "execution_count": null,
      "outputs": []
    },
    {
      "cell_type": "markdown",
      "metadata": {
        "id": "DL_P_M4nCzZ4"
      },
      "source": [
        "Prediction and confusion matrix"
      ]
    },
    {
      "cell_type": "code",
      "metadata": {
        "id": "DeGxwPIaR2um"
      },
      "source": [
        "def getConfusionMatrix(self, y_true, y_pred, speaker_labels):\n",
        "        \n",
        "        # Calculate Confusion Matrix\n",
        "        cm = confusion_matrix(y_true, y_pred)\n",
        "        \n",
        "        print(cm)\n",
        "        \n",
        "        # Instantiate Plot Variables\n",
        "        cmap = plt.cm.Blues # Color map for confusion matrix\n",
        "        title = \"Confusion Matrix\" # Plot title\n",
        "        ticks = np.arange(len(speaker_labels))\n",
        "        fmt = 'd' # Data format\n",
        "        thresh = cm.max()/2. # Treshold\n",
        "        \n",
        "        # Plot Confusion Matrix\n",
        "        plt.figure(figsize=(20, 10))\n",
        "        plt.imshow(cm, interpolation='nearest', cmap=cmap)\n",
        "        plt.title(\"Confusion Matrix\")\n",
        "        plt.colorbar()\n",
        "        plt.xticks(ticks, speaker_labels, rotation=90)\n",
        "        plt.yticks(ticks, speaker_labels)\n",
        "        \n",
        "        for (i, j) in itertools.product(range(cm.shape[0]), range(cm.shape[1])):\n",
        "            plt.text(j, i, format(cm[i, j], fmt),\n",
        "                     color='white' if cm[i, j] > thresh else 'black')\n",
        "        \n",
        "        plt.ylabel('True Label')\n",
        "        plt.xlabel('Predicted Label')"
      ],
      "execution_count": null,
      "outputs": []
    },
    {
      "cell_type": "code",
      "metadata": {
        "id": "LXKU8sug5yrw"
      },
      "source": [
        "class_dict={'ABUSE':1, 'BLACK':2, 'EXACTLY':3, 'CRIME':4}"
      ],
      "execution_count": null,
      "outputs": []
    },
    {
      "cell_type": "code",
      "metadata": {
        "id": "qVX0jYxF5g3c"
      },
      "source": [
        "y_true=[]\n",
        "y_pred=[]\n",
        "count=0\n",
        "for word in class_dict.keys():\n",
        "  for i in range(count,count+50):\n",
        "    test = X_test[i].reshape((1,25,40))\n",
        "    y = int(np.argmax(model.predict(test), axis=-1))\n",
        "    temp = list(class_dict.keys())\n",
        "    y_true.append(temp[class_dict[word]-1])\n",
        "    y_pred.append(temp[y])\n",
        "    print(\"The predicted word for {} is {} \".format(temp[class_dict[word]-1],temp[y]))\n",
        "  count+=50"
      ],
      "execution_count": null,
      "outputs": []
    },
    {
      "cell_type": "code",
      "metadata": {
        "id": "o9O7kgL3-dDB"
      },
      "source": [
        "speaker_labels=list(class_dict.keys())\n",
        "getConfusionMatrix(_,y_true,y_pred,speaker_labels)"
      ],
      "execution_count": null,
      "outputs": []
    },
    {
      "cell_type": "code",
      "metadata": {
        "id": "IvGbGrEjLnrP"
      },
      "source": [
        ""
      ],
      "execution_count": null,
      "outputs": []
    }
  ]
}